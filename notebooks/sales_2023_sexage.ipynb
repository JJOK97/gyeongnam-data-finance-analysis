{
 "cells": [
  {
   "cell_type": "markdown",
   "id": "a6d4716e-948b-4edf-9f5a-84d4afbd9491",
   "metadata": {},
   "source": [
    "# sales_2023_sexage EDA 플랜\n",
    "\n",
    "| 단계 | 내용 | 상세 작업 |\n",
    "|:---|:---|:---|\n",
    "| 1 | 기본 구조 확인 | - 데이터 크기(shape) 확인<br>- 컬럼 목록(columns) 확인<br>- 데이터 타입(dtypes) 확인<br>- 데이터 샘플(head, tail) 확인 |\n",
    "| 2 | 결측치 확인 | - 컬럼별 결측치 개수 확인(isnull.sum()) |\n",
    "| 3 | 주요 지표 요약 | - 총 매출건수 합계(매출건수)<br>- 총 매출금액 합계(매출금액합계) |\n",
    "| 4 | 주요 범주 분석 | - 업종별(분류) 매출 합계<br>- 성별(성별) 매출 합계<br>- 연령대별(연령대) 매출 합계<br>- 지역별(시군구명) 매출 합계 |\n",
    "| 5 | 시각화 | - 업종별 매출 합계 Top 10 (barplot)<br>- 연령대별 매출 합계 (lineplot)<br>- 성별 매출 합계 (barplot)<br>- 업종별 평균단가 Top 10 (barplot)<br>- 지역별 매출 합계 Top 10 (barplot) |\n",
    "| 6 | 특이사항 탐색 (선택) | - 업종별 매출 단가 이상 여부<br>- 지역별 특정 연령대 소비 집중 여부 |\n"
   ]
  },
  {
   "cell_type": "code",
   "execution_count": 2,
   "id": "1862d19b-9b9d-4cca-878d-1d0bb310716e",
   "metadata": {},
   "outputs": [
    {
     "ename": "FileNotFoundError",
     "evalue": "[Errno 2] No such file or directory: '../data_raw/card_sales_2023_sexage.csv'",
     "output_type": "error",
     "traceback": [
      "\u001b[31m---------------------------------------------------------------------------\u001b[39m",
      "\u001b[31mFileNotFoundError\u001b[39m                         Traceback (most recent call last)",
      "\u001b[36mCell\u001b[39m\u001b[36m \u001b[39m\u001b[32mIn[2]\u001b[39m\u001b[32m, line 13\u001b[39m\n\u001b[32m     10\u001b[39m warnings.filterwarnings(\u001b[33m'\u001b[39m\u001b[33mignore\u001b[39m\u001b[33m'\u001b[39m)\n\u001b[32m     12\u001b[39m path = \u001b[33m'\u001b[39m\u001b[33m../data_raw/\u001b[39m\u001b[33m'\u001b[39m\n\u001b[32m---> \u001b[39m\u001b[32m13\u001b[39m sales_2023_sexage = \u001b[43mpd\u001b[49m\u001b[43m.\u001b[49m\u001b[43mread_csv\u001b[49m\u001b[43m(\u001b[49m\u001b[43mpath\u001b[49m\u001b[43m \u001b[49m\u001b[43m+\u001b[49m\u001b[43m \u001b[49m\u001b[33;43m'\u001b[39;49m\u001b[33;43mcard_sales_2023_sexage.csv\u001b[39;49m\u001b[33;43m'\u001b[39;49m\u001b[43m,\u001b[49m\u001b[43m \u001b[49m\u001b[43mencoding\u001b[49m\u001b[43m=\u001b[49m\u001b[33;43m'\u001b[39;49m\u001b[33;43mcp949\u001b[39;49m\u001b[33;43m'\u001b[39;49m\u001b[43m)\u001b[49m\n",
      "\u001b[36mFile \u001b[39m\u001b[32m~/gyeongnam-data-finance-analysis/venv/lib/python3.12/site-packages/pandas/io/parsers/readers.py:1026\u001b[39m, in \u001b[36mread_csv\u001b[39m\u001b[34m(filepath_or_buffer, sep, delimiter, header, names, index_col, usecols, dtype, engine, converters, true_values, false_values, skipinitialspace, skiprows, skipfooter, nrows, na_values, keep_default_na, na_filter, verbose, skip_blank_lines, parse_dates, infer_datetime_format, keep_date_col, date_parser, date_format, dayfirst, cache_dates, iterator, chunksize, compression, thousands, decimal, lineterminator, quotechar, quoting, doublequote, escapechar, comment, encoding, encoding_errors, dialect, on_bad_lines, delim_whitespace, low_memory, memory_map, float_precision, storage_options, dtype_backend)\u001b[39m\n\u001b[32m   1013\u001b[39m kwds_defaults = _refine_defaults_read(\n\u001b[32m   1014\u001b[39m     dialect,\n\u001b[32m   1015\u001b[39m     delimiter,\n\u001b[32m   (...)\u001b[39m\u001b[32m   1022\u001b[39m     dtype_backend=dtype_backend,\n\u001b[32m   1023\u001b[39m )\n\u001b[32m   1024\u001b[39m kwds.update(kwds_defaults)\n\u001b[32m-> \u001b[39m\u001b[32m1026\u001b[39m \u001b[38;5;28;01mreturn\u001b[39;00m \u001b[43m_read\u001b[49m\u001b[43m(\u001b[49m\u001b[43mfilepath_or_buffer\u001b[49m\u001b[43m,\u001b[49m\u001b[43m \u001b[49m\u001b[43mkwds\u001b[49m\u001b[43m)\u001b[49m\n",
      "\u001b[36mFile \u001b[39m\u001b[32m~/gyeongnam-data-finance-analysis/venv/lib/python3.12/site-packages/pandas/io/parsers/readers.py:620\u001b[39m, in \u001b[36m_read\u001b[39m\u001b[34m(filepath_or_buffer, kwds)\u001b[39m\n\u001b[32m    617\u001b[39m _validate_names(kwds.get(\u001b[33m\"\u001b[39m\u001b[33mnames\u001b[39m\u001b[33m\"\u001b[39m, \u001b[38;5;28;01mNone\u001b[39;00m))\n\u001b[32m    619\u001b[39m \u001b[38;5;66;03m# Create the parser.\u001b[39;00m\n\u001b[32m--> \u001b[39m\u001b[32m620\u001b[39m parser = \u001b[43mTextFileReader\u001b[49m\u001b[43m(\u001b[49m\u001b[43mfilepath_or_buffer\u001b[49m\u001b[43m,\u001b[49m\u001b[43m \u001b[49m\u001b[43m*\u001b[49m\u001b[43m*\u001b[49m\u001b[43mkwds\u001b[49m\u001b[43m)\u001b[49m\n\u001b[32m    622\u001b[39m \u001b[38;5;28;01mif\u001b[39;00m chunksize \u001b[38;5;129;01mor\u001b[39;00m iterator:\n\u001b[32m    623\u001b[39m     \u001b[38;5;28;01mreturn\u001b[39;00m parser\n",
      "\u001b[36mFile \u001b[39m\u001b[32m~/gyeongnam-data-finance-analysis/venv/lib/python3.12/site-packages/pandas/io/parsers/readers.py:1620\u001b[39m, in \u001b[36mTextFileReader.__init__\u001b[39m\u001b[34m(self, f, engine, **kwds)\u001b[39m\n\u001b[32m   1617\u001b[39m     \u001b[38;5;28mself\u001b[39m.options[\u001b[33m\"\u001b[39m\u001b[33mhas_index_names\u001b[39m\u001b[33m\"\u001b[39m] = kwds[\u001b[33m\"\u001b[39m\u001b[33mhas_index_names\u001b[39m\u001b[33m\"\u001b[39m]\n\u001b[32m   1619\u001b[39m \u001b[38;5;28mself\u001b[39m.handles: IOHandles | \u001b[38;5;28;01mNone\u001b[39;00m = \u001b[38;5;28;01mNone\u001b[39;00m\n\u001b[32m-> \u001b[39m\u001b[32m1620\u001b[39m \u001b[38;5;28mself\u001b[39m._engine = \u001b[38;5;28;43mself\u001b[39;49m\u001b[43m.\u001b[49m\u001b[43m_make_engine\u001b[49m\u001b[43m(\u001b[49m\u001b[43mf\u001b[49m\u001b[43m,\u001b[49m\u001b[43m \u001b[49m\u001b[38;5;28;43mself\u001b[39;49m\u001b[43m.\u001b[49m\u001b[43mengine\u001b[49m\u001b[43m)\u001b[49m\n",
      "\u001b[36mFile \u001b[39m\u001b[32m~/gyeongnam-data-finance-analysis/venv/lib/python3.12/site-packages/pandas/io/parsers/readers.py:1880\u001b[39m, in \u001b[36mTextFileReader._make_engine\u001b[39m\u001b[34m(self, f, engine)\u001b[39m\n\u001b[32m   1878\u001b[39m     \u001b[38;5;28;01mif\u001b[39;00m \u001b[33m\"\u001b[39m\u001b[33mb\u001b[39m\u001b[33m\"\u001b[39m \u001b[38;5;129;01mnot\u001b[39;00m \u001b[38;5;129;01min\u001b[39;00m mode:\n\u001b[32m   1879\u001b[39m         mode += \u001b[33m\"\u001b[39m\u001b[33mb\u001b[39m\u001b[33m\"\u001b[39m\n\u001b[32m-> \u001b[39m\u001b[32m1880\u001b[39m \u001b[38;5;28mself\u001b[39m.handles = \u001b[43mget_handle\u001b[49m\u001b[43m(\u001b[49m\n\u001b[32m   1881\u001b[39m \u001b[43m    \u001b[49m\u001b[43mf\u001b[49m\u001b[43m,\u001b[49m\n\u001b[32m   1882\u001b[39m \u001b[43m    \u001b[49m\u001b[43mmode\u001b[49m\u001b[43m,\u001b[49m\n\u001b[32m   1883\u001b[39m \u001b[43m    \u001b[49m\u001b[43mencoding\u001b[49m\u001b[43m=\u001b[49m\u001b[38;5;28;43mself\u001b[39;49m\u001b[43m.\u001b[49m\u001b[43moptions\u001b[49m\u001b[43m.\u001b[49m\u001b[43mget\u001b[49m\u001b[43m(\u001b[49m\u001b[33;43m\"\u001b[39;49m\u001b[33;43mencoding\u001b[39;49m\u001b[33;43m\"\u001b[39;49m\u001b[43m,\u001b[49m\u001b[43m \u001b[49m\u001b[38;5;28;43;01mNone\u001b[39;49;00m\u001b[43m)\u001b[49m\u001b[43m,\u001b[49m\n\u001b[32m   1884\u001b[39m \u001b[43m    \u001b[49m\u001b[43mcompression\u001b[49m\u001b[43m=\u001b[49m\u001b[38;5;28;43mself\u001b[39;49m\u001b[43m.\u001b[49m\u001b[43moptions\u001b[49m\u001b[43m.\u001b[49m\u001b[43mget\u001b[49m\u001b[43m(\u001b[49m\u001b[33;43m\"\u001b[39;49m\u001b[33;43mcompression\u001b[39;49m\u001b[33;43m\"\u001b[39;49m\u001b[43m,\u001b[49m\u001b[43m \u001b[49m\u001b[38;5;28;43;01mNone\u001b[39;49;00m\u001b[43m)\u001b[49m\u001b[43m,\u001b[49m\n\u001b[32m   1885\u001b[39m \u001b[43m    \u001b[49m\u001b[43mmemory_map\u001b[49m\u001b[43m=\u001b[49m\u001b[38;5;28;43mself\u001b[39;49m\u001b[43m.\u001b[49m\u001b[43moptions\u001b[49m\u001b[43m.\u001b[49m\u001b[43mget\u001b[49m\u001b[43m(\u001b[49m\u001b[33;43m\"\u001b[39;49m\u001b[33;43mmemory_map\u001b[39;49m\u001b[33;43m\"\u001b[39;49m\u001b[43m,\u001b[49m\u001b[43m \u001b[49m\u001b[38;5;28;43;01mFalse\u001b[39;49;00m\u001b[43m)\u001b[49m\u001b[43m,\u001b[49m\n\u001b[32m   1886\u001b[39m \u001b[43m    \u001b[49m\u001b[43mis_text\u001b[49m\u001b[43m=\u001b[49m\u001b[43mis_text\u001b[49m\u001b[43m,\u001b[49m\n\u001b[32m   1887\u001b[39m \u001b[43m    \u001b[49m\u001b[43merrors\u001b[49m\u001b[43m=\u001b[49m\u001b[38;5;28;43mself\u001b[39;49m\u001b[43m.\u001b[49m\u001b[43moptions\u001b[49m\u001b[43m.\u001b[49m\u001b[43mget\u001b[49m\u001b[43m(\u001b[49m\u001b[33;43m\"\u001b[39;49m\u001b[33;43mencoding_errors\u001b[39;49m\u001b[33;43m\"\u001b[39;49m\u001b[43m,\u001b[49m\u001b[43m \u001b[49m\u001b[33;43m\"\u001b[39;49m\u001b[33;43mstrict\u001b[39;49m\u001b[33;43m\"\u001b[39;49m\u001b[43m)\u001b[49m\u001b[43m,\u001b[49m\n\u001b[32m   1888\u001b[39m \u001b[43m    \u001b[49m\u001b[43mstorage_options\u001b[49m\u001b[43m=\u001b[49m\u001b[38;5;28;43mself\u001b[39;49m\u001b[43m.\u001b[49m\u001b[43moptions\u001b[49m\u001b[43m.\u001b[49m\u001b[43mget\u001b[49m\u001b[43m(\u001b[49m\u001b[33;43m\"\u001b[39;49m\u001b[33;43mstorage_options\u001b[39;49m\u001b[33;43m\"\u001b[39;49m\u001b[43m,\u001b[49m\u001b[43m \u001b[49m\u001b[38;5;28;43;01mNone\u001b[39;49;00m\u001b[43m)\u001b[49m\u001b[43m,\u001b[49m\n\u001b[32m   1889\u001b[39m \u001b[43m\u001b[49m\u001b[43m)\u001b[49m\n\u001b[32m   1890\u001b[39m \u001b[38;5;28;01massert\u001b[39;00m \u001b[38;5;28mself\u001b[39m.handles \u001b[38;5;129;01mis\u001b[39;00m \u001b[38;5;129;01mnot\u001b[39;00m \u001b[38;5;28;01mNone\u001b[39;00m\n\u001b[32m   1891\u001b[39m f = \u001b[38;5;28mself\u001b[39m.handles.handle\n",
      "\u001b[36mFile \u001b[39m\u001b[32m~/gyeongnam-data-finance-analysis/venv/lib/python3.12/site-packages/pandas/io/common.py:873\u001b[39m, in \u001b[36mget_handle\u001b[39m\u001b[34m(path_or_buf, mode, encoding, compression, memory_map, is_text, errors, storage_options)\u001b[39m\n\u001b[32m    868\u001b[39m \u001b[38;5;28;01melif\u001b[39;00m \u001b[38;5;28misinstance\u001b[39m(handle, \u001b[38;5;28mstr\u001b[39m):\n\u001b[32m    869\u001b[39m     \u001b[38;5;66;03m# Check whether the filename is to be opened in binary mode.\u001b[39;00m\n\u001b[32m    870\u001b[39m     \u001b[38;5;66;03m# Binary mode does not support 'encoding' and 'newline'.\u001b[39;00m\n\u001b[32m    871\u001b[39m     \u001b[38;5;28;01mif\u001b[39;00m ioargs.encoding \u001b[38;5;129;01mand\u001b[39;00m \u001b[33m\"\u001b[39m\u001b[33mb\u001b[39m\u001b[33m\"\u001b[39m \u001b[38;5;129;01mnot\u001b[39;00m \u001b[38;5;129;01min\u001b[39;00m ioargs.mode:\n\u001b[32m    872\u001b[39m         \u001b[38;5;66;03m# Encoding\u001b[39;00m\n\u001b[32m--> \u001b[39m\u001b[32m873\u001b[39m         handle = \u001b[38;5;28;43mopen\u001b[39;49m\u001b[43m(\u001b[49m\n\u001b[32m    874\u001b[39m \u001b[43m            \u001b[49m\u001b[43mhandle\u001b[49m\u001b[43m,\u001b[49m\n\u001b[32m    875\u001b[39m \u001b[43m            \u001b[49m\u001b[43mioargs\u001b[49m\u001b[43m.\u001b[49m\u001b[43mmode\u001b[49m\u001b[43m,\u001b[49m\n\u001b[32m    876\u001b[39m \u001b[43m            \u001b[49m\u001b[43mencoding\u001b[49m\u001b[43m=\u001b[49m\u001b[43mioargs\u001b[49m\u001b[43m.\u001b[49m\u001b[43mencoding\u001b[49m\u001b[43m,\u001b[49m\n\u001b[32m    877\u001b[39m \u001b[43m            \u001b[49m\u001b[43merrors\u001b[49m\u001b[43m=\u001b[49m\u001b[43merrors\u001b[49m\u001b[43m,\u001b[49m\n\u001b[32m    878\u001b[39m \u001b[43m            \u001b[49m\u001b[43mnewline\u001b[49m\u001b[43m=\u001b[49m\u001b[33;43m\"\u001b[39;49m\u001b[33;43m\"\u001b[39;49m\u001b[43m,\u001b[49m\n\u001b[32m    879\u001b[39m \u001b[43m        \u001b[49m\u001b[43m)\u001b[49m\n\u001b[32m    880\u001b[39m     \u001b[38;5;28;01melse\u001b[39;00m:\n\u001b[32m    881\u001b[39m         \u001b[38;5;66;03m# Binary mode\u001b[39;00m\n\u001b[32m    882\u001b[39m         handle = \u001b[38;5;28mopen\u001b[39m(handle, ioargs.mode)\n",
      "\u001b[31mFileNotFoundError\u001b[39m: [Errno 2] No such file or directory: '../data_raw/card_sales_2023_sexage.csv'"
     ]
    }
   ],
   "source": [
    "import pandas as pd\n",
    "import seaborn as sns\n",
    "import numpy as np\n",
    "\n",
    "import matplotlib.pyplot as plt\n",
    "plt.rc('font', family='NanumGothic')\n",
    "plt.rcParams['axes.unicode_minus'] = False\n",
    "\n",
    "import warnings\n",
    "warnings.filterwarnings('ignore')\n",
    "\n",
    "path = '../data_raw/'\n",
    "sales_2023_sexage = pd.read_csv(path + 'card_sales_2023_sexage.csv', encoding='cp949')\n"
   ]
  },
  {
   "cell_type": "code",
   "execution_count": null,
   "id": "4e5f8722-5a31-4c18-b0ed-dd59afb8cbdb",
   "metadata": {},
   "outputs": [],
   "source": [
    "print(\"Shape:\", sales_2023_sexage.shape)"
   ]
  },
  {
   "cell_type": "code",
   "execution_count": null,
   "id": "ebf31a0a-b8a6-4408-92f1-752740e700d2",
   "metadata": {},
   "outputs": [],
   "source": [
    "print(\"Columns:\", sales_2023_sexage.columns)"
   ]
  },
  {
   "cell_type": "code",
   "execution_count": null,
   "id": "0e045367-3876-4719-b098-978e886865fb",
   "metadata": {},
   "outputs": [],
   "source": [
    "sales_2023_sexage.dtypes"
   ]
  },
  {
   "cell_type": "code",
   "execution_count": null,
   "id": "651b794f-ce8f-4ef8-83d6-30d2650035bb",
   "metadata": {},
   "outputs": [],
   "source": [
    "sales_2023_sexage.head()"
   ]
  },
  {
   "cell_type": "code",
   "execution_count": null,
   "id": "80bf9c6d-1754-4a5d-b9f7-ca66efd52814",
   "metadata": {},
   "outputs": [],
   "source": [
    "sales_2023_sexage.tail()"
   ]
  },
  {
   "cell_type": "code",
   "execution_count": null,
   "id": "358b97de-6f21-4cc6-becf-d00044f7bac5",
   "metadata": {},
   "outputs": [],
   "source": [
    "sales_2023_sexage.isnull().sum()"
   ]
  },
  {
   "cell_type": "code",
   "execution_count": null,
   "id": "d2ac6ab9-5d04-4a36-9ef7-52944f9390ae",
   "metadata": {},
   "outputs": [],
   "source": [
    "print(\"총 매출 건수:\", sales_2023_sexage['매출건수'].sum())"
   ]
  },
  {
   "cell_type": "code",
   "execution_count": null,
   "id": "e2e2c7e1-cad8-4318-9c94-1a5cad54bd78",
   "metadata": {},
   "outputs": [],
   "source": [
    "print(\"총 매출 금액:\", sales_2023_sexage['매출금액합계'].sum())"
   ]
  },
  {
   "cell_type": "code",
   "execution_count": null,
   "id": "80d6b541-80ec-48d4-9517-9652ce097573",
   "metadata": {},
   "outputs": [],
   "source": [
    "print(\"업종 분포\")\n",
    "print(sales_2023_sexage['분류'].value_counts())"
   ]
  },
  {
   "cell_type": "code",
   "execution_count": null,
   "id": "20e8fd98-a5d9-4026-93c0-7d8b9e7047c0",
   "metadata": {},
   "outputs": [],
   "source": [
    "print(\"\\n성별 분포\")\n",
    "print(sales_2023_sexage['성별'].value_counts())"
   ]
  },
  {
   "cell_type": "code",
   "execution_count": null,
   "id": "138b26c8-b968-40fd-badc-0402182f7718",
   "metadata": {},
   "outputs": [],
   "source": [
    "print(\"\\n연령대 분포\")\n",
    "print(sales_2023_sexage['연령대'].value_counts())"
   ]
  },
  {
   "cell_type": "code",
   "execution_count": null,
   "id": "d6811f46-7be3-4da2-81ed-7e5f3ed7989c",
   "metadata": {},
   "outputs": [],
   "source": [
    "top10_category = (sales_2023_sexage\n",
    "                  .groupby('분류')['매출금액합계']\n",
    "                  .sum()\n",
    "                  .sort_values(ascending=False)\n",
    "                  .head(10))\n",
    "\n",
    "plt.figure(figsize=(12,6))\n",
    "sns.barplot(x=top10_category.values, y=top10_category.index)\n",
    "plt.title('업종별 매출 합계 Top 10')\n",
    "plt.xlabel('총 매출금액(원)')\n",
    "plt.ylabel('업종')\n",
    "plt.show()"
   ]
  },
  {
   "cell_type": "code",
   "execution_count": null,
   "id": "1c3121d7-8ad0-4375-a82e-cbad5440e51a",
   "metadata": {},
   "outputs": [],
   "source": []
  },
  {
   "cell_type": "code",
   "execution_count": null,
   "id": "bc04e075-4a0e-40ab-a860-3d21eb142b7e",
   "metadata": {},
   "outputs": [],
   "source": [
    "age_sales = (sales_2023_sexage\n",
    "             .groupby('연령대')['매출금액합계']\n",
    "             .sum()\n",
    "             .sort_index())\n",
    "\n",
    "plt.figure(figsize=(10,5))\n",
    "sns.lineplot(x=age_sales.index, y=age_sales.values, marker='o')\n",
    "plt.title('연령대별 매출 합계')\n",
    "plt.xlabel('연령대')\n",
    "plt.ylabel('총 매출금액(원)')\n",
    "plt.show()\n"
   ]
  },
  {
   "cell_type": "code",
   "execution_count": null,
   "id": "a52d718e-b7a3-4143-a24a-4b2df9b9a270",
   "metadata": {},
   "outputs": [],
   "source": [
    "sex_sales = (sales_2023_sexage\n",
    "             .groupby('성별')['매출금액합계']\n",
    "             .sum()\n",
    "             .sort_values(ascending=False))\n",
    "\n",
    "plt.figure(figsize=(6,4))\n",
    "sns.barplot(x=sex_sales.index, y=sex_sales.values)\n",
    "plt.title('성별 매출 합계')\n",
    "plt.xlabel('성별')\n",
    "plt.ylabel('총 매출금액(원)')\n",
    "plt.show()"
   ]
  },
  {
   "cell_type": "code",
   "execution_count": null,
   "id": "ed9dd7e0-94b8-42ca-afa7-6998f5b93b1c",
   "metadata": {},
   "outputs": [],
   "source": [
    "category_avg_price = (sales_2023_sexage\n",
    "                      .groupby('분류')\n",
    "                      .agg({'매출금액합계': 'sum', '매출건수': 'sum'}))\n",
    "\n",
    "category_avg_price['평균단가'] = category_avg_price['매출금액합계'] / category_avg_price['매출건수']\n",
    "\n",
    "top10_avg_price = category_avg_price['평균단가'].sort_values(ascending=False).head(10)\n",
    "\n",
    "plt.figure(figsize=(12,6))\n",
    "sns.barplot(x=top10_avg_price.values, y=top10_avg_price.index)\n",
    "plt.title('업종별 평균단가 Top 10')\n",
    "plt.xlabel('평균 결제 금액(원)')\n",
    "plt.ylabel('업종')\n",
    "plt.show()"
   ]
  },
  {
   "cell_type": "code",
   "execution_count": null,
   "id": "e1dcd3e5-3fd7-411f-b81c-eb36e2645493",
   "metadata": {},
   "outputs": [],
   "source": [
    "region_sales = (sales_2023_sexage\n",
    "                .groupby('시군구명')['매출금액합계']\n",
    "                .sum()\n",
    "                .sort_values(ascending=False)\n",
    "                .head(10))\n",
    "\n",
    "plt.figure(figsize=(12,6))\n",
    "sns.barplot(x=region_sales.values, y=region_sales.index)\n",
    "plt.title('지역별 매출 합계 Top 10')\n",
    "plt.xlabel('총 매출금액(원)')\n",
    "plt.ylabel('지역명')\n",
    "plt.show()\n"
   ]
  },
  {
   "cell_type": "code",
   "execution_count": null,
   "id": "efae297e-c5d5-4753-bbcc-924d804858c0",
   "metadata": {},
   "outputs": [],
   "source": [
    "region_age_sales = (sales_2023_sexage\n",
    "                    .groupby(['시군구명', '연령대'])['매출금액합계']\n",
    "                    .sum()\n",
    "                    .reset_index())\n",
    "\n",
    "pivot_table = region_age_sales.pivot(index='시군구명', columns='연령대', values='매출금액합계')\n",
    "\n",
    "plt.figure(figsize=(15,10))\n",
    "sns.heatmap(pivot_table, cmap='YlGnBu')\n",
    "plt.title('지역별-연령대별 매출 합계 Heatmap')\n",
    "plt.show()\n"
   ]
  },
  {
   "cell_type": "code",
   "execution_count": null,
   "id": "79be6b13-cdc4-4cae-bc16-d2b9888dc453",
   "metadata": {},
   "outputs": [],
   "source": []
  }
 ],
 "metadata": {
  "kernelspec": {
   "display_name": "Python 3 (ipykernel)",
   "language": "python",
   "name": "python3"
  },
  "language_info": {
   "codemirror_mode": {
    "name": "ipython",
    "version": 3
   },
   "file_extension": ".py",
   "mimetype": "text/x-python",
   "name": "python",
   "nbconvert_exporter": "python",
   "pygments_lexer": "ipython3",
   "version": "3.12.3"
  }
 },
 "nbformat": 4,
 "nbformat_minor": 5
}
