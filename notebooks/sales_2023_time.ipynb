{
 "cells": [
  {
   "cell_type": "markdown",
   "id": "95dd0320-800a-4e82-8b35-b015d7304063",
   "metadata": {},
   "source": [
    "# sales_2023_time EDA 플랜\n",
    "\n",
    "| 단계 | 내용 | 상세 작업 |\n",
    "|:---|:---|:---|\n",
    "| 1 | 기본 구조 확인 | - 데이터 크기(shape)<br>- 컬럼 목록(columns)<br>- 데이터 타입(dtypes)<br>- 데이터 샘플(head, tail) |\n",
    "| 2 | 결측치 확인 | - 컬럼별 결측치 개수 확인 |\n",
    "| 3 | 주요 지표 요약 | - 총 매출건수 합계<br>- 총 매출금액 합계 |\n",
    "| 4 | 주요 범주 분석 | - 업종별(분류) 매출 합계 Top 10<br>- 시간대별(0~23시) 매출 합계<br>- 지역별(시군구명) 매출 합계 Top 10 |\n",
    "| 5 | 시각화 | - 업종별 매출 barplot<br>- 시간대별 매출 lineplot<br>- 지역별 매출 barplot |\n",
    "| 6 | 통찰 및 특이사항 (선택) | - 야간/심야 소비 집중도<br>- 특정 지역 시간대 소비 집중도 |"
   ]
  },
  {
   "cell_type": "code",
   "execution_count": 5,
   "id": "d9a91bbc-9feb-4d00-8b49-1c81af3b084b",
   "metadata": {},
   "outputs": [],
   "source": [
    "import pandas as pd\n",
    "import seaborn as sns\n",
    "import numpy as np\n",
    "\n",
    "import matplotlib.pyplot as plt\n",
    "plt.rc('font', family='NanumBarunGothic')\n",
    "plt.rcParams['axes.unicode_minus'] = False\n",
    "\n",
    "import warnings\n",
    "warnings.filterwarnings('ignore')\n",
    "\n",
    "path = '../data_raw/'\n",
    "sales_2023_time = pd.read_csv(path + 'card_sales_2023_time.csv', encoding='cp949')"
   ]
  },
  {
   "cell_type": "code",
   "execution_count": 9,
   "id": "53e11a47-b1d7-4643-9a04-3e38726f02cd",
   "metadata": {},
   "outputs": [
    {
     "name": "stdout",
     "output_type": "stream",
     "text": [
      "Shape: (5178, 6)\n"
     ]
    }
   ],
   "source": [
    "print(\"Shape:\", sales_2023_time.shape)"
   ]
  },
  {
   "cell_type": "code",
   "execution_count": 10,
   "id": "ca642778-748d-4e5a-8a01-3eaf9d979bc3",
   "metadata": {},
   "outputs": [
    {
     "name": "stdout",
     "output_type": "stream",
     "text": [
      "Columns: Index(['시군구명', '시간대', '분류', '매출건수', '매출금액합계', '데이터기준일'], dtype='object')\n"
     ]
    }
   ],
   "source": [
    "print(\"Columns:\", sales_2023_time.columns)"
   ]
  },
  {
   "cell_type": "code",
   "execution_count": 13,
   "id": "d25f0c75-6aa3-45fc-b64e-31966bbfe5b1",
   "metadata": {},
   "outputs": [
    {
     "data": {
      "text/plain": [
       "시군구명      object\n",
       "시간대        int64\n",
       "분류        object\n",
       "매출건수       int64\n",
       "매출금액합계     int64\n",
       "데이터기준일     int64\n",
       "dtype: object"
      ]
     },
     "execution_count": 13,
     "metadata": {},
     "output_type": "execute_result"
    }
   ],
   "source": [
    "sales_2023_time.dtypes"
   ]
  },
  {
   "cell_type": "code",
   "execution_count": 14,
   "id": "c8c55a98-9c92-4640-9f16-abac52ed31ab",
   "metadata": {},
   "outputs": [
    {
     "data": {
      "text/html": [
       "<div>\n",
       "<style scoped>\n",
       "    .dataframe tbody tr th:only-of-type {\n",
       "        vertical-align: middle;\n",
       "    }\n",
       "\n",
       "    .dataframe tbody tr th {\n",
       "        vertical-align: top;\n",
       "    }\n",
       "\n",
       "    .dataframe thead th {\n",
       "        text-align: right;\n",
       "    }\n",
       "</style>\n",
       "<table border=\"1\" class=\"dataframe\">\n",
       "  <thead>\n",
       "    <tr style=\"text-align: right;\">\n",
       "      <th></th>\n",
       "      <th>시군구명</th>\n",
       "      <th>시간대</th>\n",
       "      <th>분류</th>\n",
       "      <th>매출건수</th>\n",
       "      <th>매출금액합계</th>\n",
       "      <th>데이터기준일</th>\n",
       "    </tr>\n",
       "  </thead>\n",
       "  <tbody>\n",
       "    <tr>\n",
       "      <th>0</th>\n",
       "      <td>창원시 의창구</td>\n",
       "      <td>0</td>\n",
       "      <td>교육</td>\n",
       "      <td>6</td>\n",
       "      <td>865000</td>\n",
       "      <td>20240101</td>\n",
       "    </tr>\n",
       "    <tr>\n",
       "      <th>1</th>\n",
       "      <td>창원시 의창구</td>\n",
       "      <td>0</td>\n",
       "      <td>기타</td>\n",
       "      <td>3</td>\n",
       "      <td>36000</td>\n",
       "      <td>20240101</td>\n",
       "    </tr>\n",
       "    <tr>\n",
       "      <th>2</th>\n",
       "      <td>창원시 의창구</td>\n",
       "      <td>0</td>\n",
       "      <td>내구재</td>\n",
       "      <td>233</td>\n",
       "      <td>101080</td>\n",
       "      <td>20240101</td>\n",
       "    </tr>\n",
       "    <tr>\n",
       "      <th>3</th>\n",
       "      <td>창원시 의창구</td>\n",
       "      <td>0</td>\n",
       "      <td>레포츠/문화/취미</td>\n",
       "      <td>6626</td>\n",
       "      <td>40106480</td>\n",
       "      <td>20240101</td>\n",
       "    </tr>\n",
       "    <tr>\n",
       "      <th>4</th>\n",
       "      <td>창원시 의창구</td>\n",
       "      <td>0</td>\n",
       "      <td>서비스</td>\n",
       "      <td>483</td>\n",
       "      <td>2473435</td>\n",
       "      <td>20240101</td>\n",
       "    </tr>\n",
       "  </tbody>\n",
       "</table>\n",
       "</div>"
      ],
      "text/plain": [
       "      시군구명  시간대         분류  매출건수    매출금액합계    데이터기준일\n",
       "0  창원시 의창구    0         교육     6    865000  20240101\n",
       "1  창원시 의창구    0         기타     3     36000  20240101\n",
       "2  창원시 의창구    0        내구재   233    101080  20240101\n",
       "3  창원시 의창구    0  레포츠/문화/취미  6626  40106480  20240101\n",
       "4  창원시 의창구    0        서비스   483   2473435  20240101"
      ]
     },
     "execution_count": 14,
     "metadata": {},
     "output_type": "execute_result"
    }
   ],
   "source": [
    "sales_2023_time.head()"
   ]
  },
  {
   "cell_type": "code",
   "execution_count": 15,
   "id": "559555d5-27a0-41ce-92fd-2c010c10ddb4",
   "metadata": {},
   "outputs": [
    {
     "data": {
      "text/html": [
       "<div>\n",
       "<style scoped>\n",
       "    .dataframe tbody tr th:only-of-type {\n",
       "        vertical-align: middle;\n",
       "    }\n",
       "\n",
       "    .dataframe tbody tr th {\n",
       "        vertical-align: top;\n",
       "    }\n",
       "\n",
       "    .dataframe thead th {\n",
       "        text-align: right;\n",
       "    }\n",
       "</style>\n",
       "<table border=\"1\" class=\"dataframe\">\n",
       "  <thead>\n",
       "    <tr style=\"text-align: right;\">\n",
       "      <th></th>\n",
       "      <th>시군구명</th>\n",
       "      <th>시간대</th>\n",
       "      <th>분류</th>\n",
       "      <th>매출건수</th>\n",
       "      <th>매출금액합계</th>\n",
       "      <th>데이터기준일</th>\n",
       "    </tr>\n",
       "  </thead>\n",
       "  <tbody>\n",
       "    <tr>\n",
       "      <th>5173</th>\n",
       "      <td>합천군</td>\n",
       "      <td>23</td>\n",
       "      <td>레포츠/문화/취미</td>\n",
       "      <td>37</td>\n",
       "      <td>538900</td>\n",
       "      <td>20240101</td>\n",
       "    </tr>\n",
       "    <tr>\n",
       "      <th>5174</th>\n",
       "      <td>합천군</td>\n",
       "      <td>23</td>\n",
       "      <td>식생활</td>\n",
       "      <td>170</td>\n",
       "      <td>10584500</td>\n",
       "      <td>20240101</td>\n",
       "    </tr>\n",
       "    <tr>\n",
       "      <th>5175</th>\n",
       "      <td>합천군</td>\n",
       "      <td>23</td>\n",
       "      <td>여행</td>\n",
       "      <td>3</td>\n",
       "      <td>9000</td>\n",
       "      <td>20240101</td>\n",
       "    </tr>\n",
       "    <tr>\n",
       "      <th>5176</th>\n",
       "      <td>합천군</td>\n",
       "      <td>23</td>\n",
       "      <td>유통</td>\n",
       "      <td>1547</td>\n",
       "      <td>14129570</td>\n",
       "      <td>20240101</td>\n",
       "    </tr>\n",
       "    <tr>\n",
       "      <th>5177</th>\n",
       "      <td>합천군</td>\n",
       "      <td>23</td>\n",
       "      <td>유흥</td>\n",
       "      <td>12</td>\n",
       "      <td>950000</td>\n",
       "      <td>20240101</td>\n",
       "    </tr>\n",
       "  </tbody>\n",
       "</table>\n",
       "</div>"
      ],
      "text/plain": [
       "     시군구명  시간대         분류  매출건수    매출금액합계    데이터기준일\n",
       "5173  합천군   23  레포츠/문화/취미    37    538900  20240101\n",
       "5174  합천군   23        식생활   170  10584500  20240101\n",
       "5175  합천군   23         여행     3      9000  20240101\n",
       "5176  합천군   23         유통  1547  14129570  20240101\n",
       "5177  합천군   23         유흥    12    950000  20240101"
      ]
     },
     "execution_count": 15,
     "metadata": {},
     "output_type": "execute_result"
    }
   ],
   "source": [
    "sales_2023_time.tail()"
   ]
  },
  {
   "cell_type": "code",
   "execution_count": 7,
   "id": "8cf3e67c-f8c9-42dc-9980-b70d253abe62",
   "metadata": {},
   "outputs": [
    {
     "data": {
      "text/plain": [
       "시군구명      0\n",
       "시간대       0\n",
       "분류        0\n",
       "매출건수      0\n",
       "매출금액합계    0\n",
       "데이터기준일    0\n",
       "dtype: int64"
      ]
     },
     "execution_count": 7,
     "metadata": {},
     "output_type": "execute_result"
    }
   ],
   "source": [
    "sales_2023_time.isnull().sum()"
   ]
  },
  {
   "cell_type": "code",
   "execution_count": null,
   "id": "0934718b-781b-4812-b647-2e855d6eeb03",
   "metadata": {},
   "outputs": [],
   "source": []
  }
 ],
 "metadata": {
  "kernelspec": {
   "display_name": "Python 3 (ipykernel)",
   "language": "python",
   "name": "python3"
  },
  "language_info": {
   "codemirror_mode": {
    "name": "ipython",
    "version": 3
   },
   "file_extension": ".py",
   "mimetype": "text/x-python",
   "name": "python",
   "nbconvert_exporter": "python",
   "pygments_lexer": "ipython3",
   "version": "3.12.3"
  }
 },
 "nbformat": 4,
 "nbformat_minor": 5
}
