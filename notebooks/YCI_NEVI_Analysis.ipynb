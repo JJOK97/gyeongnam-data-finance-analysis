{
 "cells": [
  {
   "cell_type": "code",
   "execution_count": 28,
   "id": "6ad48599-cecb-4888-8ada-dbf566214fb3",
   "metadata": {},
   "outputs": [],
   "source": [
    "import pandas as pd\n",
    "import matplotlib.pyplot as plt\n",
    "\n",
    "# 데이터 경로\n",
    "path = '../data_raw/'\n",
    "\n",
    "# 카드매출 데이터 불러오기\n",
    "sales_2023_sexage = pd.read_csv(path + 'card_sales_2023_sexage.csv', encoding='cp949')\n",
    "sales_2024_sexage = pd.read_csv(path + 'card_sales_2024_sexage.csv', encoding='cp949')\n",
    "sales_2023_time = pd.read_csv(path + 'card_sales_2023_time.csv', encoding='cp949')\n",
    "sales_2024_time = pd.read_csv(path + 'card_sales_2024_time.csv', encoding='cp949')\n",
    "sales_2023_month = pd.read_csv(path + 'card_sales_2023_month.csv', encoding='cp949')\n",
    "sales_2024_month = pd.read_csv(path + 'card_sales_2024_month.csv', encoding='cp949')"
   ]
  },
  {
   "cell_type": "code",
   "execution_count": 43,
   "id": "ba0b3883-54fd-4d90-a5aa-6e7247406c32",
   "metadata": {},
   "outputs": [],
   "source": [
    "# 전처리 함수: 파일 유형별 처리 ('sexage', 'time', 'month')\n",
    "def preprocess_sales_data(df: pd.DataFrame, dataset_type: str) -> pd.DataFrame:\n",
    "    df = df.copy()\n",
    "\n",
    "    # 공통 컬럼명 통일\n",
    "    rename_map = {\n",
    "        '매출금액합계': '매출금액',\n",
    "        '매출합계(원)': '매출금액',\n",
    "        '매출건수(건)': '매출건수',\n",
    "    }\n",
    "    df = df.rename(columns={k: v for k, v in rename_map.items() if k in df.columns})\n",
    "\n",
    "    # sexage 데이터: 연령대/성별 처리\n",
    "    if dataset_type == 'sexage':\n",
    "        if '연령대' in df.columns:\n",
    "            df['청년여부'] = df['연령대'].apply(lambda x: '청년' if x in ['20대', '30대'] else '기타')\n",
    "        if '성별' in df.columns:\n",
    "            df['성별'] = df['성별'].str.strip()\n",
    "\n",
    "    # time 데이터: 시간대 → 야간 여부 처리\n",
    "    elif dataset_type == 'time':\n",
    "        if '시간대' in df.columns:\n",
    "            df['야간여부'] = df['시간대'].apply(lambda x: '야간' if (x >= 18 or x < 6) else '주간')\n",
    "\n",
    "    # month 데이터: 유입지 → 외지 여부 처리\n",
    "    elif dataset_type == 'month':\n",
    "        if '유입지' in df.columns:\n",
    "            df['외지여부'] = df['유입지'].apply(lambda x: '외지' if x != '경남' else '내지')\n",
    "\n",
    "    return df\n"
   ]
  },
  {
   "cell_type": "code",
   "execution_count": 44,
   "id": "1ada8838-df5d-4da2-8545-2963249c76ff",
   "metadata": {},
   "outputs": [],
   "source": [
    "# sexage\n",
    "sexage_2023 = preprocess_sales_data(sales_2023_sexage, 'sexage')\n",
    "sexage_2024 = preprocess_sales_data(sales_2024_sexage, 'sexage')\n",
    "\n",
    "# time\n",
    "time_2023 = preprocess_sales_data(sales_2023_time, 'time')\n",
    "time_2024 = preprocess_sales_data(sales_2024_time, 'time')\n",
    "\n",
    "# month\n",
    "month_2023 = preprocess_sales_data(sales_2023_month, 'month')\n",
    "month_2024 = preprocess_sales_data(sales_2024_month, 'month')\n"
   ]
  },
  {
   "cell_type": "code",
   "execution_count": 45,
   "id": "85a08305-454d-41c3-9ed7-9c0e51bf7a89",
   "metadata": {},
   "outputs": [],
   "source": [
    "# 🔹 지표 ①: 청년소비비중\n",
    "def calc_yci_1_청년소비비중(df):\n",
    "    # 전체 매출 합계\n",
    "    total_sales = df.groupby('시군구명')['매출금액'].sum()\n",
    "    \n",
    "    # 청년 매출 합계\n",
    "    youth_sales = df[df['청년여부'] == '청년'].groupby('시군구명')['매출금액'].sum()\n",
    "    \n",
    "    # 비중 계산\n",
    "    share = (youth_sales / total_sales).fillna(0)\n",
    "\n",
    "    # 정규화\n",
    "    norm = (share - share.min()) / (share.max() - share.min() + 1e-9)\n",
    "\n",
    "    return pd.DataFrame({\n",
    "        '청년소비비중': share,\n",
    "        '청년소비비중_norm': norm\n",
    "    })\n"
   ]
  },
  {
   "cell_type": "code",
   "execution_count": 46,
   "id": "8c911d43-9381-40b7-8879-82bb9f7fc24e",
   "metadata": {},
   "outputs": [
    {
     "data": {
      "text/html": [
       "<div>\n",
       "<style scoped>\n",
       "    .dataframe tbody tr th:only-of-type {\n",
       "        vertical-align: middle;\n",
       "    }\n",
       "\n",
       "    .dataframe tbody tr th {\n",
       "        vertical-align: top;\n",
       "    }\n",
       "\n",
       "    .dataframe thead th {\n",
       "        text-align: right;\n",
       "    }\n",
       "</style>\n",
       "<table border=\"1\" class=\"dataframe\">\n",
       "  <thead>\n",
       "    <tr style=\"text-align: right;\">\n",
       "      <th></th>\n",
       "      <th>청년소비비중</th>\n",
       "      <th>청년소비비중_norm</th>\n",
       "    </tr>\n",
       "    <tr>\n",
       "      <th>시군구명</th>\n",
       "      <th></th>\n",
       "      <th></th>\n",
       "    </tr>\n",
       "  </thead>\n",
       "  <tbody>\n",
       "    <tr>\n",
       "      <th>거제시</th>\n",
       "      <td>0.252248</td>\n",
       "      <td>0.391685</td>\n",
       "    </tr>\n",
       "    <tr>\n",
       "      <th>거창군</th>\n",
       "      <td>0.238184</td>\n",
       "      <td>0.342199</td>\n",
       "    </tr>\n",
       "    <tr>\n",
       "      <th>고성군</th>\n",
       "      <td>0.208021</td>\n",
       "      <td>0.236075</td>\n",
       "    </tr>\n",
       "    <tr>\n",
       "      <th>김해시</th>\n",
       "      <td>0.295953</td>\n",
       "      <td>0.545455</td>\n",
       "    </tr>\n",
       "    <tr>\n",
       "      <th>남해군</th>\n",
       "      <td>0.281668</td>\n",
       "      <td>0.495194</td>\n",
       "    </tr>\n",
       "  </tbody>\n",
       "</table>\n",
       "</div>"
      ],
      "text/plain": [
       "        청년소비비중  청년소비비중_norm\n",
       "시군구명                       \n",
       "거제시   0.252248     0.391685\n",
       "거창군   0.238184     0.342199\n",
       "고성군   0.208021     0.236075\n",
       "김해시   0.295953     0.545455\n",
       "남해군   0.281668     0.495194"
      ]
     },
     "execution_count": 46,
     "metadata": {},
     "output_type": "execute_result"
    }
   ],
   "source": [
    "yci1_2023 = calc_yci_1_청년소비비중(sexage_2023)\n",
    "yci1_2023.head()\n"
   ]
  },
  {
   "cell_type": "code",
   "execution_count": 47,
   "id": "d0a4f045-d701-47fd-92c1-302f4188a9a2",
   "metadata": {},
   "outputs": [],
   "source": [
    "YOUTH_CORE_CATEGORIES = ['식생활', '유통', '의료/미용', '자동차']\n"
   ]
  },
  {
   "cell_type": "code",
   "execution_count": 48,
   "id": "14256c7b-b42a-45a5-b4d3-fb377af866df",
   "metadata": {},
   "outputs": [],
   "source": [
    "# 🔹 지표 ②: 청년핵심업종비중\n",
    "def calc_yci_2_청년핵심업종비중(df):\n",
    "    core_categories = ['식생활', '유통', '의료/미용', '자동차']\n",
    "    \n",
    "    # 청년 소비만 필터\n",
    "    youth = df[df['청년여부'] == '청년']\n",
    "\n",
    "    # 전체 청년 소비\n",
    "    total_youth_sales = youth.groupby('시군구명')['매출금액'].sum()\n",
    "\n",
    "    # 청년의 핵심업종 소비\n",
    "    core_youth_sales = youth[youth['분류'].isin(core_categories)] \\\n",
    "                            .groupby('시군구명')['매출금액'].sum()\n",
    "\n",
    "    # 비중 계산\n",
    "    share = (core_youth_sales / total_youth_sales).fillna(0)\n",
    "\n",
    "    # 정규화\n",
    "    norm = (share - share.min()) / (share.max() - share.min() + 1e-9)\n",
    "\n",
    "    return pd.DataFrame({\n",
    "        '청년핵심업종비중': share,\n",
    "        '청년핵심업종비중_norm': norm\n",
    "    })\n"
   ]
  },
  {
   "cell_type": "code",
   "execution_count": 49,
   "id": "eb6dbc56-da8f-433b-af46-c29d515e783e",
   "metadata": {},
   "outputs": [
    {
     "data": {
      "text/html": [
       "<div>\n",
       "<style scoped>\n",
       "    .dataframe tbody tr th:only-of-type {\n",
       "        vertical-align: middle;\n",
       "    }\n",
       "\n",
       "    .dataframe tbody tr th {\n",
       "        vertical-align: top;\n",
       "    }\n",
       "\n",
       "    .dataframe thead th {\n",
       "        text-align: right;\n",
       "    }\n",
       "</style>\n",
       "<table border=\"1\" class=\"dataframe\">\n",
       "  <thead>\n",
       "    <tr style=\"text-align: right;\">\n",
       "      <th></th>\n",
       "      <th>청년핵심업종비중</th>\n",
       "      <th>청년핵심업종비중_norm</th>\n",
       "    </tr>\n",
       "    <tr>\n",
       "      <th>시군구명</th>\n",
       "      <th></th>\n",
       "      <th></th>\n",
       "    </tr>\n",
       "  </thead>\n",
       "  <tbody>\n",
       "    <tr>\n",
       "      <th>거제시</th>\n",
       "      <td>0.883717</td>\n",
       "      <td>0.312288</td>\n",
       "    </tr>\n",
       "    <tr>\n",
       "      <th>거창군</th>\n",
       "      <td>0.931554</td>\n",
       "      <td>0.625929</td>\n",
       "    </tr>\n",
       "    <tr>\n",
       "      <th>고성군</th>\n",
       "      <td>0.899809</td>\n",
       "      <td>0.417795</td>\n",
       "    </tr>\n",
       "    <tr>\n",
       "      <th>김해시</th>\n",
       "      <td>0.922728</td>\n",
       "      <td>0.568064</td>\n",
       "    </tr>\n",
       "    <tr>\n",
       "      <th>남해군</th>\n",
       "      <td>0.883899</td>\n",
       "      <td>0.313485</td>\n",
       "    </tr>\n",
       "  </tbody>\n",
       "</table>\n",
       "</div>"
      ],
      "text/plain": [
       "      청년핵심업종비중  청년핵심업종비중_norm\n",
       "시군구명                         \n",
       "거제시   0.883717       0.312288\n",
       "거창군   0.931554       0.625929\n",
       "고성군   0.899809       0.417795\n",
       "김해시   0.922728       0.568064\n",
       "남해군   0.883899       0.313485"
      ]
     },
     "execution_count": 49,
     "metadata": {},
     "output_type": "execute_result"
    }
   ],
   "source": [
    "yci2_2023 = calc_yci_2_청년핵심업종비중(sexage_2023)\n",
    "yci2_2023.head()"
   ]
  },
  {
   "cell_type": "code",
   "execution_count": 50,
   "id": "5a7d7836-4300-4789-aaa2-35857d9a5751",
   "metadata": {},
   "outputs": [
    {
     "ename": "SyntaxError",
     "evalue": "incomplete input (3849206786.py, line 21)",
     "output_type": "error",
     "traceback": [
      "  \u001b[36mCell\u001b[39m\u001b[36m \u001b[39m\u001b[32mIn[50]\u001b[39m\u001b[32m, line 21\u001b[39m\n\u001b[31m    \u001b[39m\u001b[31mnorm = (entropy - entropy.min()) / (entropy.max() - entropy\u001b[39m\n                                                               ^\n\u001b[31mSyntaxError\u001b[39m\u001b[31m:\u001b[39m incomplete input\n"
     ]
    }
   ],
   "source": [
    "import numpy as np\n",
    "\n",
    "# 🔹 지표 ③: 청년소비다양성\n",
    "def calc_yci_3_청년소비다양성(df):\n",
    "    youth = df[df['청년여부'] == '청년']\n",
    "    \n",
    "    # 시군구별 업종 비율 계산\n",
    "    grouped = youth.groupby(['시군구명', '분류'])['매출금액'].sum().reset_index()\n",
    "    \n",
    "    # 전체 매출 대비 업종 비율\n",
    "    total_per_region = grouped.groupby('시군구명')['매출금액'].sum().reset_index()\n",
    "    grouped = grouped.merge(total_per_region, on='시군구명', suffixes=('', '_total'))\n",
    "    grouped['비율'] = grouped['매출금액'] / grouped['매출금액_total']\n",
    "    \n",
    "    # Shannon entropy 계산\n",
    "    entropy = grouped.groupby('시군구명')['비율'].apply(\n",
    "        lambda x: -np.sum(x * np.log2(x + 1e-9))\n",
    "    )\n",
    "\n",
    "    # 정규화\n",
    "    norm = (entropy - entropy.min()) / (entropy.max() - entropy\n"
   ]
  },
  {
   "cell_type": "code",
   "execution_count": 37,
   "id": "521b63be-4304-4e02-8005-1d5a3237300b",
   "metadata": {},
   "outputs": [],
   "source": [
    "def calc_yci_5_성별균형성(df):\n",
    "    df_youth = df[df['연령대'].isin(YOUTH_AGES)]\n",
    "    grouped = df_youth.groupby(['시군구명', '성별'])['매출금액'].sum().reset_index()\n",
    "    pivot = grouped.pivot(index='시군구명', columns='성별', values='매출금액').fillna(0)\n",
    "\n",
    "    pivot['총합'] = pivot.sum(axis=1)\n",
    "    pivot['남성비율'] = pivot['남성'] / pivot['총합']\n",
    "    pivot['여성비율'] = pivot['여성'] / pivot['총합']\n",
    "    pivot['성별균형성'] = 1 - abs(pivot['남성비율'] - pivot['여성비율'])\n",
    "    return pivot[['성별균형성']]\n"
   ]
  },
  {
   "cell_type": "code",
   "execution_count": 38,
   "id": "1a9dd83b-6fc3-40a8-90d8-ea2400504e31",
   "metadata": {},
   "outputs": [],
   "source": [
    "def normalize_series(s):\n",
    "    return (s - s.min()) / (s.max() - s.min() + 1e-9)  # 0으로 나눔 방지\n"
   ]
  },
  {
   "cell_type": "code",
   "execution_count": 41,
   "id": "b40147d9-f518-48d9-a987-b1d3cb147508",
   "metadata": {},
   "outputs": [],
   "source": [
    "def calculate_yci_score(df_sexage, df_month):\n",
    "    # 전처리\n",
    "    df_sexage = preprocess_sexage(df_sexage)\n",
    "\n",
    "    # 개별 지표 계산\n",
    "    df1 = calc_yci_1_청년소비비중(df_sexage)\n",
    "    df2 = calc_yci_2_청년핵심업종비중(df_sexage)\n",
    "    df3 = calc_yci_3_청년소비다양성(df_sexage)\n",
    "    df4 = calc_yci_4_청년외지소비(df_month)\n",
    "    df5 = calc_yci_5_성별균형성(df_sexage)\n",
    "\n",
    "    # 병합\n",
    "    df_all = df1.join(df2).join(df3).join(df4).join(df5)\n",
    "\n",
    "    # 정규화\n",
    "    for col in df_all.columns:\n",
    "        df_all[col + '_norm'] = normalize_series(df_all[col])\n",
    "\n",
    "    # 가중치 (정책적 중요도 기준)\n",
    "    weights = {\n",
    "        '청년소비비중_norm': 0.30,\n",
    "        '청년핵심업종비중_norm': 0.25,\n",
    "        '청년소비다양성_norm': 0.15,\n",
    "        '청년외지소비비중_norm': 0.15,\n",
    "        '성별균형성_norm': 0.15\n",
    "    }\n",
    "\n",
    "    # 가중합\n",
    "    df_all['YCI_score'] = sum(df_all[col] * w for col, w in weights.items())\n",
    "    df_all['YCI_score'] = df_all['YCI_score'] * 100  # 0~100 스케일\n",
    "\n",
    "    return df_all[['YCI_score'] + list(weights.keys())]\n"
   ]
  },
  {
   "cell_type": "code",
   "execution_count": 42,
   "id": "691441ac-f8c5-4fc7-a1c4-3e34e05ab817",
   "metadata": {},
   "outputs": [
    {
     "name": "stderr",
     "output_type": "stream",
     "text": [
      "/tmp/ipykernel_8396/2929928930.py:3: SettingWithCopyWarning: \n",
      "A value is trying to be set on a copy of a slice from a DataFrame.\n",
      "Try using .loc[row_indexer,col_indexer] = value instead\n",
      "\n",
      "See the caveats in the documentation: https://pandas.pydata.org/pandas-docs/stable/user_guide/indexing.html#returning-a-view-versus-a-copy\n",
      "  df_youth['핵심업종'] = df_youth['분류'].apply(lambda x: x if x in 청년_핵심_업종 else '기타')\n",
      "/tmp/ipykernel_8396/3300425101.py:11: DeprecationWarning: DataFrameGroupBy.apply operated on the grouping columns. This behavior is deprecated, and in a future version of pandas the grouping columns will be excluded from the operation. Either pass `include_groups=False` to exclude the groupings or explicitly select the grouping columns after groupby to silence this warning.\n",
      "  entropy = grouped.groupby('시군구명').apply(shannon_entropy).reset_index()\n"
     ]
    },
    {
     "ename": "KeyError",
     "evalue": "'연령대'",
     "output_type": "error",
     "traceback": [
      "\u001b[31m---------------------------------------------------------------------------\u001b[39m",
      "\u001b[31mKeyError\u001b[39m                                  Traceback (most recent call last)",
      "\u001b[36mFile \u001b[39m\u001b[32m~/gyeongnam-data-finance-analysis/venv/lib/python3.12/site-packages/pandas/core/indexes/base.py:3805\u001b[39m, in \u001b[36mIndex.get_loc\u001b[39m\u001b[34m(self, key)\u001b[39m\n\u001b[32m   3804\u001b[39m \u001b[38;5;28;01mtry\u001b[39;00m:\n\u001b[32m-> \u001b[39m\u001b[32m3805\u001b[39m     \u001b[38;5;28;01mreturn\u001b[39;00m \u001b[38;5;28;43mself\u001b[39;49m\u001b[43m.\u001b[49m\u001b[43m_engine\u001b[49m\u001b[43m.\u001b[49m\u001b[43mget_loc\u001b[49m\u001b[43m(\u001b[49m\u001b[43mcasted_key\u001b[49m\u001b[43m)\u001b[49m\n\u001b[32m   3806\u001b[39m \u001b[38;5;28;01mexcept\u001b[39;00m \u001b[38;5;167;01mKeyError\u001b[39;00m \u001b[38;5;28;01mas\u001b[39;00m err:\n",
      "\u001b[36mFile \u001b[39m\u001b[32mindex.pyx:167\u001b[39m, in \u001b[36mpandas._libs.index.IndexEngine.get_loc\u001b[39m\u001b[34m()\u001b[39m\n",
      "\u001b[36mFile \u001b[39m\u001b[32mindex.pyx:196\u001b[39m, in \u001b[36mpandas._libs.index.IndexEngine.get_loc\u001b[39m\u001b[34m()\u001b[39m\n",
      "\u001b[36mFile \u001b[39m\u001b[32mpandas/_libs/hashtable_class_helper.pxi:7081\u001b[39m, in \u001b[36mpandas._libs.hashtable.PyObjectHashTable.get_item\u001b[39m\u001b[34m()\u001b[39m\n",
      "\u001b[36mFile \u001b[39m\u001b[32mpandas/_libs/hashtable_class_helper.pxi:7089\u001b[39m, in \u001b[36mpandas._libs.hashtable.PyObjectHashTable.get_item\u001b[39m\u001b[34m()\u001b[39m\n",
      "\u001b[31mKeyError\u001b[39m: '연령대'",
      "\nThe above exception was the direct cause of the following exception:\n",
      "\u001b[31mKeyError\u001b[39m                                  Traceback (most recent call last)",
      "\u001b[36mCell\u001b[39m\u001b[36m \u001b[39m\u001b[32mIn[42]\u001b[39m\u001b[32m, line 2\u001b[39m\n\u001b[32m      1\u001b[39m \u001b[38;5;66;03m# 예시: 2023년 기준 YCI 계산\u001b[39;00m\n\u001b[32m----> \u001b[39m\u001b[32m2\u001b[39m yci_2023 = \u001b[43mcalculate_yci_score\u001b[49m\u001b[43m(\u001b[49m\u001b[43msales_2023_sexage\u001b[49m\u001b[43m,\u001b[49m\u001b[43m \u001b[49m\u001b[43msales_2023_month\u001b[49m\u001b[43m)\u001b[49m\n\u001b[32m      3\u001b[39m yci_2023.head()\n",
      "\u001b[36mCell\u001b[39m\u001b[36m \u001b[39m\u001b[32mIn[41]\u001b[39m\u001b[32m, line 9\u001b[39m, in \u001b[36mcalculate_yci_score\u001b[39m\u001b[34m(df_sexage, df_month)\u001b[39m\n\u001b[32m      7\u001b[39m df2 = calc_yci_2_청년핵심업종비중(df_sexage)\n\u001b[32m      8\u001b[39m df3 = calc_yci_3_청년소비다양성(df_sexage)\n\u001b[32m----> \u001b[39m\u001b[32m9\u001b[39m df4 = \u001b[43mcalc_yci_4_청년외지소비\u001b[49m\u001b[43m(\u001b[49m\u001b[43mdf_month\u001b[49m\u001b[43m)\u001b[49m\n\u001b[32m     10\u001b[39m df5 = calc_yci_5_성별균형성(df_sexage)\n\u001b[32m     12\u001b[39m \u001b[38;5;66;03m# 병합\u001b[39;00m\n",
      "\u001b[36mCell\u001b[39m\u001b[36m \u001b[39m\u001b[32mIn[36]\u001b[39m\u001b[32m, line 3\u001b[39m, in \u001b[36mcalc_yci_4_청년외지소비\u001b[39m\u001b[34m(df)\u001b[39m\n\u001b[32m      1\u001b[39m \u001b[38;5;28;01mdef\u001b[39;00m\u001b[38;5;250m \u001b[39m\u001b[34mcalc_yci_4_청년외지소비\u001b[39m(df):\n\u001b[32m      2\u001b[39m     df = normalize_column_names(df)\n\u001b[32m----> \u001b[39m\u001b[32m3\u001b[39m     df = df[\u001b[43mdf\u001b[49m\u001b[43m[\u001b[49m\u001b[33;43m'\u001b[39;49m\u001b[33;43m연령대\u001b[39;49m\u001b[33;43m'\u001b[39;49m\u001b[43m]\u001b[49m.isin(YOUTH_AGES)]\n\u001b[32m      4\u001b[39m     df[\u001b[33m'\u001b[39m\u001b[33m외지여부\u001b[39m\u001b[33m'\u001b[39m] = df[\u001b[33m'\u001b[39m\u001b[33m유입지\u001b[39m\u001b[33m'\u001b[39m].apply(\u001b[38;5;28;01mlambda\u001b[39;00m x: \u001b[33m'\u001b[39m\u001b[33m외지\u001b[39m\u001b[33m'\u001b[39m \u001b[38;5;28;01mif\u001b[39;00m x != \u001b[33m'\u001b[39m\u001b[33m경남\u001b[39m\u001b[33m'\u001b[39m \u001b[38;5;28;01melse\u001b[39;00m \u001b[33m'\u001b[39m\u001b[33m내지\u001b[39m\u001b[33m'\u001b[39m)\n\u001b[32m      6\u001b[39m     grouped = df.groupby([\u001b[33m'\u001b[39m\u001b[33m시군구명\u001b[39m\u001b[33m'\u001b[39m, \u001b[33m'\u001b[39m\u001b[33m외지여부\u001b[39m\u001b[33m'\u001b[39m])[\u001b[33m'\u001b[39m\u001b[33m매출금액\u001b[39m\u001b[33m'\u001b[39m].sum().reset_index()\n",
      "\u001b[36mFile \u001b[39m\u001b[32m~/gyeongnam-data-finance-analysis/venv/lib/python3.12/site-packages/pandas/core/frame.py:4102\u001b[39m, in \u001b[36mDataFrame.__getitem__\u001b[39m\u001b[34m(self, key)\u001b[39m\n\u001b[32m   4100\u001b[39m \u001b[38;5;28;01mif\u001b[39;00m \u001b[38;5;28mself\u001b[39m.columns.nlevels > \u001b[32m1\u001b[39m:\n\u001b[32m   4101\u001b[39m     \u001b[38;5;28;01mreturn\u001b[39;00m \u001b[38;5;28mself\u001b[39m._getitem_multilevel(key)\n\u001b[32m-> \u001b[39m\u001b[32m4102\u001b[39m indexer = \u001b[38;5;28;43mself\u001b[39;49m\u001b[43m.\u001b[49m\u001b[43mcolumns\u001b[49m\u001b[43m.\u001b[49m\u001b[43mget_loc\u001b[49m\u001b[43m(\u001b[49m\u001b[43mkey\u001b[49m\u001b[43m)\u001b[49m\n\u001b[32m   4103\u001b[39m \u001b[38;5;28;01mif\u001b[39;00m is_integer(indexer):\n\u001b[32m   4104\u001b[39m     indexer = [indexer]\n",
      "\u001b[36mFile \u001b[39m\u001b[32m~/gyeongnam-data-finance-analysis/venv/lib/python3.12/site-packages/pandas/core/indexes/base.py:3812\u001b[39m, in \u001b[36mIndex.get_loc\u001b[39m\u001b[34m(self, key)\u001b[39m\n\u001b[32m   3807\u001b[39m     \u001b[38;5;28;01mif\u001b[39;00m \u001b[38;5;28misinstance\u001b[39m(casted_key, \u001b[38;5;28mslice\u001b[39m) \u001b[38;5;129;01mor\u001b[39;00m (\n\u001b[32m   3808\u001b[39m         \u001b[38;5;28misinstance\u001b[39m(casted_key, abc.Iterable)\n\u001b[32m   3809\u001b[39m         \u001b[38;5;129;01mand\u001b[39;00m \u001b[38;5;28many\u001b[39m(\u001b[38;5;28misinstance\u001b[39m(x, \u001b[38;5;28mslice\u001b[39m) \u001b[38;5;28;01mfor\u001b[39;00m x \u001b[38;5;129;01min\u001b[39;00m casted_key)\n\u001b[32m   3810\u001b[39m     ):\n\u001b[32m   3811\u001b[39m         \u001b[38;5;28;01mraise\u001b[39;00m InvalidIndexError(key)\n\u001b[32m-> \u001b[39m\u001b[32m3812\u001b[39m     \u001b[38;5;28;01mraise\u001b[39;00m \u001b[38;5;167;01mKeyError\u001b[39;00m(key) \u001b[38;5;28;01mfrom\u001b[39;00m\u001b[38;5;250m \u001b[39m\u001b[34;01merr\u001b[39;00m\n\u001b[32m   3813\u001b[39m \u001b[38;5;28;01mexcept\u001b[39;00m \u001b[38;5;167;01mTypeError\u001b[39;00m:\n\u001b[32m   3814\u001b[39m     \u001b[38;5;66;03m# If we have a listlike key, _check_indexing_error will raise\u001b[39;00m\n\u001b[32m   3815\u001b[39m     \u001b[38;5;66;03m#  InvalidIndexError. Otherwise we fall through and re-raise\u001b[39;00m\n\u001b[32m   3816\u001b[39m     \u001b[38;5;66;03m#  the TypeError.\u001b[39;00m\n\u001b[32m   3817\u001b[39m     \u001b[38;5;28mself\u001b[39m._check_indexing_error(key)\n",
      "\u001b[31mKeyError\u001b[39m: '연령대'"
     ]
    }
   ],
   "source": [
    "# 예시: 2023년 기준 YCI 계산\n",
    "yci_2023 = calculate_yci_score(sales_2023_sexage, sales_2023_month)\n",
    "yci_2023.head()\n"
   ]
  },
  {
   "cell_type": "code",
   "execution_count": null,
   "id": "b703ae4b-211d-46a9-959b-def3a3566cd7",
   "metadata": {},
   "outputs": [],
   "source": []
  }
 ],
 "metadata": {
  "kernelspec": {
   "display_name": "Python 3 (ipykernel)",
   "language": "python",
   "name": "python3"
  },
  "language_info": {
   "codemirror_mode": {
    "name": "ipython",
    "version": 3
   },
   "file_extension": ".py",
   "mimetype": "text/x-python",
   "name": "python",
   "nbconvert_exporter": "python",
   "pygments_lexer": "ipython3",
   "version": "3.12.3"
  }
 },
 "nbformat": 4,
 "nbformat_minor": 5
}
